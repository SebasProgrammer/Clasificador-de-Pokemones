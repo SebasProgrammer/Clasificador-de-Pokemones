{
  "nbformat": 4,
  "nbformat_minor": 0,
  "metadata": {
    "colab": {
      "provenance": []
    },
    "kernelspec": {
      "name": "python3",
      "display_name": "Python 3"
    },
    "language_info": {
      "name": "python"
    }
  },
  "cells": [
    {
      "cell_type": "markdown",
      "metadata": {
        "id": "ZGwfF3AUTZ-n"
      },
      "source": [
        "#TB2: Quién es ese pokémon?\n",
        "\n",
        "##Integrantes:\n",
        "\n",
        "* Alessandro Carhuancho Bazán\n",
        "* Andreluis Ingaroca Torres\n",
        "* Sebastián Arana del Carpio"
      ]
    },
    {
      "cell_type": "markdown",
      "metadata": {
        "id": "ePKlcnETBvH4"
      },
      "source": [
        "### Indicaciones\n",
        "\n",
        "1) Elegir la ruta para el dataset en la primera celda de \"Lectura de Datos\"\n",
        "\n",
        "2) Se comentó el \"Entrenamiento\", ya que se tiene los pesos guardados\n",
        "\n",
        "3) En la sección de \"Prueba con imagen de web\", se puede utilizar los siguientes ejemplos:\n",
        "\n",
        " * Mewto Link:\n",
        "\n",
        "https://www.gbposters.com/media/catalog/product/cache/1/image/9df78eab33525d08d6e5fb8d27136e95/m/p/mp2176-pokemon-mewtwo-glow.jpg\n",
        "\n",
        "* Charizar Link:\n",
        "\n",
        "https://i.pinimg.com/564x/ae/f4/f1/aef4f1a211a57e424dec3e46c6a05d46.jpg\n",
        "\n",
        "* Pikachu Link\n",
        "\n",
        "https://pbs.twimg.com/profile_images/378800000842511069/a3f4d226ec9174245e7975b38171c8dc_400x400.jpeg\n",
        "\n",
        "* Abra Link\n",
        "\n",
        "https://static.wikia.nocookie.net/espokemon/images/5/5f/Abra_en_la_primera_generaci%C3%B3n.png/revision/latest?cb=20110302205035"
      ]
    },
    {
      "cell_type": "markdown",
      "metadata": {
        "id": "igN0faszTP3B"
      },
      "source": [
        "###Vinculación con Google Drive"
      ]
    },
    {
      "cell_type": "code",
      "metadata": {
        "colab": {
          "base_uri": "https://localhost:8080/"
        },
        "id": "aD_qEiFd0rM2",
        "outputId": "8ff567ba-3ad2-4e66-9e41-384212024efc"
      },
      "source": [
        "from google.colab import drive\n",
        "drive.mount('/content/drive')"
      ],
      "execution_count": 1,
      "outputs": [
        {
          "output_type": "stream",
          "name": "stdout",
          "text": [
            "Mounted at /content/drive\n"
          ]
        }
      ]
    },
    {
      "cell_type": "markdown",
      "metadata": {
        "id": "NNsIrrSdOIL7"
      },
      "source": [
        "###Librerías"
      ]
    },
    {
      "cell_type": "code",
      "metadata": {
        "id": "NeZx402uF1HW"
      },
      "source": [
        "import os\n",
        "import random as rn\n",
        "import numpy as np\n",
        "from skimage.io import imread\n",
        "from skimage.transform import resize\n",
        "import matplotlib.pyplot as plt\n",
        "import cv2\n",
        "from sklearn.model_selection import train_test_split\n",
        "from tensorflow.python.keras.models import Sequential\n",
        "from tensorflow.python.keras.layers import Dense, Conv2D, MaxPool2D, Flatten\n",
        "from tensorflow.keras.optimizers import SGD\n",
        "from tensorflow.keras.preprocessing import image\n",
        "from tensorflow.keras.utils import plot_model\n",
        "from ipywidgets import Button, HBox"
      ],
      "execution_count": 2,
      "outputs": []
    },
    {
      "cell_type": "code",
      "metadata": {
        "id": "zxQDH_PchToU"
      },
      "source": [
        "%matplotlib inline"
      ],
      "execution_count": 3,
      "outputs": []
    },
    {
      "cell_type": "markdown",
      "metadata": {
        "id": "58nKd1PXgZdv"
      },
      "source": [
        "# __Lectura de Datos__\n",
        "##Aqui reemplace la ruta donde esta ubicado la carpeta dataset"
      ]
    },
    {
      "cell_type": "code",
      "metadata": {
        "id": "g24tBtPdAmMC"
      },
      "source": [
        "dataset_path = '/content/drive/MyDrive/' + 'dataset/'"
      ],
      "execution_count": 4,
      "outputs": []
    },
    {
      "cell_type": "markdown",
      "metadata": {
        "id": "9mJ0h7_PPhFd"
      },
      "source": [
        "### Se lee cada una de las imágenes de los 10 directorios de Pokemones del data set\n",
        "\n",
        "###Se aplica un reescalado para convertir la imagen a 80x80 píxeles\n",
        "\n",
        "###Se convierte a escala de grises para no tener 3 capas de color"
      ]
    },
    {
      "cell_type": "code",
      "metadata": {
        "id": "X0DNqcRoNJGH"
      },
      "source": [
        "DATADIR = dataset_path\n",
        "CATEGORIES = [\"Abra\", \"Articuno\",\"Charizard\",\n",
        "              \"Eevee\", \"Bulbasaur\", \"Pikachu\",\n",
        "              \"Caterpie\", \"Squirtle\", \"Gyarados\",\"Mewtwo\"]\n",
        "hg = 80\n",
        "def datos():\n",
        "  stack = []\n",
        "  for cat in CATEGORIES:\n",
        "    #ruta por categoria\n",
        "    path = os.path.join(DATADIR, cat)\n",
        "    #index de la etiqueta\n",
        "    label = CATEGORIES.index(cat)\n",
        "    print(label)\n",
        "    #nombre de las fotos\n",
        "    listdir = os.listdir(path)\n",
        "    #Leer imagenes\n",
        "    for i in range(len(listdir)):\n",
        "      image_name = listdir[i]\n",
        "      img_path = os.path.join(path,image_name)\n",
        "      try:\n",
        "        img = cv2.imread(img_path, cv2.IMREAD_GRAYSCALE)\n",
        "        img = cv2.resize(img, (hg,hg))\n",
        "      except Exception as e:\n",
        "        pass\n",
        "      stack.append([img, label])\n",
        "\n",
        "  return stack  \n"
      ],
      "execution_count": null,
      "outputs": []
    },
    {
      "cell_type": "markdown",
      "metadata": {
        "id": "oh2mOWH7Q2O-"
      },
      "source": [
        "### Se aplica un shuffle para distribuir aleatoriamente\n",
        "\n",
        "### Se convierte a numpy y dividimos en 255 para trabajar con valores de tipo Float en un intervalo de [0,1] "
      ]
    },
    {
      "cell_type": "code",
      "metadata": {
        "id": "Krke2ia9VJ-O",
        "colab": {
          "base_uri": "https://localhost:8080/"
        },
        "outputId": "ef5c645f-0d3f-43ae-cde1-13ba48fd8f9d"
      },
      "source": [
        "stack = datos()\n",
        "#Hacemos un random a los valores de stack\n",
        "rn.shuffle(stack)\n",
        "x, y = [],[]\n",
        "#numero de fotos\n",
        "n = len(stack)\n",
        "for i in range(n):\n",
        "  x.append(stack[i][0])\n",
        "  y.append(stack[i][1])\n",
        "x = np.array(x).reshape(-1, hg, hg,1)\n",
        "x = x/255.0\n",
        "y = np.array(y)\n",
        "print(\"Lectura de datos exitosa!!\")"
      ],
      "execution_count": null,
      "outputs": [
        {
          "output_type": "stream",
          "name": "stdout",
          "text": [
            "0\n",
            "1\n",
            "2\n",
            "3\n",
            "4\n",
            "5\n",
            "6\n",
            "7\n",
            "8\n",
            "9\n",
            "Lectura de datos exitosa!!\n"
          ]
        }
      ]
    },
    {
      "cell_type": "markdown",
      "metadata": {
        "id": "TAahaWLARm2R"
      },
      "source": [
        "### Se muestra la cantidad de imágenes por Pokémon"
      ]
    },
    {
      "cell_type": "code",
      "metadata": {
        "id": "xYTexrpeZOo_",
        "colab": {
          "base_uri": "https://localhost:8080/",
          "height": 204
        },
        "outputId": "92a94494-a9f5-4bfc-8086-4f217baac016"
      },
      "source": [
        "plt.figure(figsize=(10, 2))\n",
        "plt.title(\"Cantidad de muestras x Pokemón\")\n",
        "plt.ylabel(\"Cantidad\")\n",
        "plt.xlabel(\"Pokemon\")\n",
        "plt.hist(y, bins=10)\n",
        "plt.plot()"
      ],
      "execution_count": null,
      "outputs": [
        {
          "output_type": "execute_result",
          "data": {
            "text/plain": [
              "[]"
            ]
          },
          "metadata": {},
          "execution_count": 14
        },
        {
          "output_type": "display_data",
          "data": {
            "image/png": "[encoded data removed]",
            "text/plain": [
              "<Figure size 720x144 with 1 Axes>"
            ]
          },
          "metadata": {
            "needs_background": "light"
          }
        }
      ]
    },
    {
      "cell_type": "markdown",
      "metadata": {
        "id": "n6uMs2wLgglS"
      },
      "source": [
        "###Separar fotos de entrenamiento y testeo\n",
        "\n",
        "####Las imágenes de entrenamiento son el 80% del dataset y las imágenes del testeo son del 20%, se logra utlizando \"test_size\""
      ]
    },
    {
      "cell_type": "code",
      "metadata": {
        "id": "nU43sDwvblWh"
      },
      "source": [
        "X_train, X_test, y_train, y_test = train_test_split(x, y, test_size=0.20, stratify=y)"
      ],
      "execution_count": null,
      "outputs": []
    },
    {
      "cell_type": "markdown",
      "metadata": {
        "id": "-nCwdxpQgpie"
      },
      "source": [
        "###Modelo de Red Neuronal Convolucional\n",
        "\n",
        "####Configuración del modelo"
      ]
    },
    {
      "cell_type": "code",
      "metadata": {
        "id": "6u-cVl8thasQ",
        "colab": {
          "base_uri": "https://localhost:8080/"
        },
        "outputId": "c5a3da24-f6c3-4e79-8d71-c941a9ab12e3"
      },
      "source": [
        "lr = 0.0005\n",
        "bs = 16\n",
        "model = Sequential([Conv2D(32, 3, activation='relu', input_shape=(hg,hg,1), padding='same'),\n",
        "                    MaxPool2D(),\n",
        "                    \n",
        "                    Conv2D(64, 3, activation='relu', padding='same'),\n",
        "                    MaxPool2D(),\n",
        "                    Conv2D(128, 3, activation='relu', padding='same'),\n",
        "                    MaxPool2D(),\n",
        "                    Flatten(),\n",
        "                    Dense(128, activation='relu'), #modificar!\n",
        "                    Dense(10, activation='softmax')]) #no modificar\n",
        "model.compile(optimizer = 'adam', loss='sparse_categorical_crossentropy', metrics=['accuracy'])\n",
        "model.summary()"
      ],
      "execution_count": null,
      "outputs": [
        {
          "output_type": "stream",
          "name": "stdout",
          "text": [
            "Model: \"sequential_2\"\n",
            "_________________________________________________________________\n",
            "Layer (type)                 Output Shape              Param #   \n",
            "=================================================================\n",
            "conv2d_6 (Conv2D)            (None, 80, 80, 32)        320       \n",
            "_________________________________________________________________\n",
            "max_pooling2d_6 (MaxPooling2 (None, 40, 40, 32)        0         \n",
            "_________________________________________________________________\n",
            "conv2d_7 (Conv2D)            (None, 40, 40, 64)        18496     \n",
            "_________________________________________________________________\n",
            "max_pooling2d_7 (MaxPooling2 (None, 20, 20, 64)        0         \n",
            "_________________________________________________________________\n",
            "conv2d_8 (Conv2D)            (None, 20, 20, 128)       73856     \n",
            "_________________________________________________________________\n",
            "max_pooling2d_8 (MaxPooling2 (None, 10, 10, 128)       0         \n",
            "_________________________________________________________________\n",
            "flatten_2 (Flatten)          (None, 12800)             0         \n",
            "_________________________________________________________________\n",
            "dense_4 (Dense)              (None, 128)               1638528   \n",
            "_________________________________________________________________\n",
            "dense_5 (Dense)              (None, 10)                1290      \n",
            "=================================================================\n",
            "Total params: 1,732,490\n",
            "Trainable params: 1,732,490\n",
            "Non-trainable params: 0\n",
            "_________________________________________________________________\n"
          ]
        }
      ]
    },
    {
      "cell_type": "markdown",
      "metadata": {
        "id": "c7CXV3nNgxni"
      },
      "source": [
        "\n",
        "#ENTRENAMIENTO"
      ]
    },
    {
      "cell_type": "code",
      "metadata": {
        "id": "bgev9J3J1eXJ"
      },
      "source": [
        "log = model.fit(X_train,y_train, epochs = 5, batch_size=bs, verbose=0, validation_data=(X_test, y_test))"
      ],
      "execution_count": null,
      "outputs": []
    },
    {
      "cell_type": "markdown",
      "metadata": {
        "id": "89EVqn8nSEhB"
      },
      "source": [
        "###Guardado de los pesos del modelo entrenado"
      ]
    },
    {
      "cell_type": "code",
      "metadata": {
        "id": "MF7BMXthNVnC"
      },
      "source": [
        "model.save_weights(dataset_path + 'save_model/')"
      ],
      "execution_count": null,
      "outputs": []
    },
    {
      "cell_type": "markdown",
      "metadata": {
        "id": "TZteST6XF0_K"
      },
      "source": [
        "#USO DEL MODELO ENTRENADO\n",
        "\n",
        "### Cargar modelo"
      ]
    },
    {
      "cell_type": "code",
      "metadata": {
        "id": "M4s00XlTNpWc",
        "colab": {
          "base_uri": "https://localhost:8080/"
        },
        "outputId": "f9dedbd3-11be-4c14-a445-44393d218e75"
      },
      "source": [
        "model.load_weights(dataset_path + 'save_model/')"
      ],
      "execution_count": null,
      "outputs": [
        {
          "output_type": "execute_result",
          "data": {
            "text/plain": [
              "<tensorflow.python.training.tracking.util.CheckpointLoadStatus at 0x7fafa7c43bd0>"
            ]
          },
          "metadata": {},
          "execution_count": 33
        }
      ]
    },
    {
      "cell_type": "markdown",
      "metadata": {
        "id": "4vkuQYYjg8in"
      },
      "source": [
        "###Resultados de la Red Neuronal"
      ]
    },
    {
      "cell_type": "code",
      "metadata": {
        "id": "Qynpeaek2q7M",
        "colab": {
          "base_uri": "https://localhost:8080/"
        },
        "outputId": "328643d3-d527-4022-f121-506accdcfa71"
      },
      "source": [
        "loss, acc = model.evaluate(X_test, y_test, batch_size=512, verbose=False)\n",
        "print(f'Loss     = {loss:.4f}')\n",
        "print(f'Accuracy = {acc:.4f}')"
      ],
      "execution_count": null,
      "outputs": [
        {
          "output_type": "stream",
          "name": "stdout",
          "text": [
            "Loss     = 1.7124\n",
            "Accuracy = 0.6041\n"
          ]
        }
      ]
    },
    {
      "cell_type": "markdown",
      "metadata": {
        "id": "VCYfDZaKabL5"
      },
      "source": [
        "###Prueba con imagen de Test\n",
        "\n",
        "Elegimos una imagen aleatoria del dataset de Testeo"
      ]
    },
    {
      "cell_type": "code",
      "metadata": {
        "id": "-Rb0oz3rfSDL",
        "colab": {
          "base_uri": "https://localhost:8080/",
          "height": 314
        },
        "outputId": "fa4178d2-1be2-4820-be7e-152af703fc75"
      },
      "source": [
        "idx = np.random.choice(X_test.shape[0], 1)[0]\n",
        "im = X_test[idx]\n",
        "print(im.shape)\n",
        "label = y_test[idx]\n",
        "plt.title('(test) id:{} val:{}'.format(idx, CATEGORIES[label]))\n",
        "plt.axis('off')\n",
        "plt.imshow(-im[:,:,0], cmap='gray')\n",
        "plt.show()\n",
        "salida = model.predict(im[None,:,:,:])[0]\n",
        "print(salida)"
      ],
      "execution_count": null,
      "outputs": [
        {
          "output_type": "stream",
          "name": "stdout",
          "text": [
            "(80, 80, 1)\n"
          ]
        },
        {
          "output_type": "display_data",
          "data": {
            "image/png": "[encoded data removed]",
            "text/plain": [
              "<Figure size 432x288 with 1 Axes>"
            ]
          },
          "metadata": {
            "needs_background": "light"
          }
        },
        {
          "output_type": "stream",
          "name": "stdout",
          "text": [
            "[0.10113628 0.12514104 0.38893926 0.075235   0.02449967 0.01472243\n",
            " 0.02044412 0.12156419 0.09119313 0.03712493]\n"
          ]
        }
      ]
    },
    {
      "cell_type": "markdown",
      "metadata": {
        "id": "LiUF0MVaVJRZ"
      },
      "source": [
        "###Muestra de la predicción "
      ]
    },
    {
      "cell_type": "code",
      "metadata": {
        "id": "fp8vRXv2fdjE",
        "colab": {
          "base_uri": "https://localhost:8080/",
          "height": 204
        },
        "outputId": "904b14ee-9c48-4ef9-9877-a4a4444abbcb"
      },
      "source": [
        "plt.figure(figsize=(10, 2))\n",
        "plt.title(\"Predicción: {} | Label: {}\".format(CATEGORIES[salida.argmax()], CATEGORIES[label]))\n",
        "plt.ylabel(\"Probabilidad\")\n",
        "plt.xlabel(\"Pokemón\")\n",
        "plt.ylim([0,1])\n",
        "plt.bar(CATEGORIES, salida)"
      ],
      "execution_count": null,
      "outputs": [
        {
          "output_type": "execute_result",
          "data": {
            "text/plain": [
              "<BarContainer object of 10 artists>"
            ]
          },
          "metadata": {},
          "execution_count": 40
        },
        {
          "output_type": "display_data",
          "data": {
            "image/png": "[encoded data removed]",
            "text/plain": [
              "<Figure size 720x144 with 1 Axes>"
            ]
          },
          "metadata": {
            "needs_background": "light"
          }
        }
      ]
    },
    {
      "cell_type": "markdown",
      "metadata": {
        "id": "DPR6rATwaVl0"
      },
      "source": [
        "###Prueba con imagen de web\n",
        "\n",
        "####Se puede probar con una imagen de la web, colocando el link de la imagen a predecir\n"
      ]
    },
    {
      "cell_type": "code",
      "metadata": {
        "id": "QcQOKCiJSi-a",
        "colab": {
          "base_uri": "https://localhost:8080/",
          "height": 318
        },
        "outputId": "81057ce2-0e22-4cf8-cbdf-c6c6611c8913"
      },
      "source": [
        "link = input()\n",
        "temp_path = dataset_path + 'temp/temp.jpg'\n",
        "\n",
        "real_image = imread(link)\n",
        "cv2.imwrite(temp_path, real_image)\n",
        "\n",
        "real_image = cv2.imread(temp_path, cv2.IMREAD_GRAYSCALE)\n",
        "x = cv2.resize(real_image, (hg,hg))\n",
        "\n",
        "p = []\n",
        "p.append(x)\n",
        "p = np.array(p).reshape(-1, hg, hg,1)\n",
        "p = p/255.0\n",
        "#Seleccionamos la imagen y la mostramos\n",
        "mn = p[0]\n",
        "plt.imshow(-mn[:,:,0], cmap='gray')\n",
        "plt.show()\n",
        "\n",
        "salida2 = model.predict(mn[None,:,:,:])[0]\n",
        "print(salida2)"
      ],
      "execution_count": null,
      "outputs": [
        {
          "name": "stdout",
          "output_type": "stream",
          "text": [
            "https://i.pinimg.com/564x/ae/f4/f1/aef4f1a211a57e424dec3e46c6a05d46.jpg\n"
          ]
        },
        {
          "output_type": "display_data",
          "data": {
            "image/png": "[encoded data removed]",
            "text/plain": [
              "<Figure size 432x288 with 1 Axes>"
            ]
          },
          "metadata": {
            "needs_background": "light"
          }
        },
        {
          "output_type": "stream",
          "name": "stdout",
          "text": [
            "[5.2257394e-07 9.2503503e-03 9.5242035e-01 4.4835964e-03 3.0864596e-06\n",
            " 1.9340061e-06 8.0094738e-05 1.5203203e-02 1.7766416e-02 7.9051167e-04]\n"
          ]
        }
      ]
    },
    {
      "cell_type": "markdown",
      "metadata": {
        "id": "Jm9NcnNWXV9I"
      },
      "source": [
        "###Predicción del pokémon en base al link puesto anteriormente"
      ]
    },
    {
      "cell_type": "code",
      "metadata": {
        "id": "IwUVgItjVMpD",
        "colab": {
          "base_uri": "https://localhost:8080/",
          "height": 204
        },
        "outputId": "9ab1a48b-7c51-4f4c-e7b2-363b86b94495"
      },
      "source": [
        "plt.figure(figsize=(10,2))\n",
        "plt.title(\"Predicción: {} \".format(CATEGORIES[salida2.argmax()], CATEGORIES[label]))\n",
        "plt.ylabel(\"Probabilidad\")\n",
        "plt.xlabel(\"Pokemón\")\n",
        "plt.ylim([0,1])\n",
        "plt.bar(CATEGORIES, salida2)"
      ],
      "execution_count": null,
      "outputs": [
        {
          "output_type": "execute_result",
          "data": {
            "text/plain": [
              "<BarContainer object of 10 artists>"
            ]
          },
          "metadata": {},
          "execution_count": 44
        },
        {
          "output_type": "display_data",
          "data": {
            "image/png": "[encoded data removed]",
            "text/plain": [
              "<Figure size 720x144 with 1 Axes>"
            ]
          },
          "metadata": {
            "needs_background": "light"
          }
        }
      ]
    },
    {
      "cell_type": "markdown",
      "metadata": {
        "id": "ucrzj9NSMtz_"
      },
      "source": [
        "###Función para añadir una nueva imagen al dataset"
      ]
    },
    {
      "cell_type": "code",
      "metadata": {
        "id": "SjkSVJTVCZWH"
      },
      "source": [
        "def saveInDataSet():\n",
        "  number = rn.uniform(1,10000000)\n",
        "  save_path = DATADIR + CATEGORIES[salida2.argmax()] + '/' + str(number) +'.jpg'\n",
        "  cv2.imwrite(save_path, real_image)\n",
        "  print(\"Gracias por contribuir al crecimiento de nuestro data set :D\")\n",
        "  print(\"La imagen se guardó en: \", save_path)"
      ],
      "execution_count": null,
      "outputs": []
    },
    {
      "cell_type": "markdown",
      "metadata": {
        "id": "yx1NwoYog77g"
      },
      "source": [
        "## ¿La predicción fue correcta?"
      ]
    },
    {
      "cell_type": "code",
      "metadata": {
        "id": "17ZXWJ9ccW47"
      },
      "source": [
        "thisandthat = ['SI', 'NO']\n",
        "\n",
        "switch = [Button(description=name) for name in thisandthat]\n",
        "\n",
        "combined = HBox([items for items in switch])\n",
        "\n",
        "def upon_clicked(btn):\n",
        "    print(f'The circuit is {btn.description}.', end='\\x1b\\r')\n",
        "    for n in range(len(thisandthat)):\n",
        "        switch[n].style.button_color = 'gray'\n",
        "    btn.style.button_color = 'pink'\n",
        "    if (btn.description=='SI'):\n",
        "      saveInDataSet()\n",
        "    else:\n",
        "      print('La predicción fue erronea, pruebe con otra imagen.')\n",
        "\n",
        "\n",
        "for n in range(len(thisandthat)):\n",
        "    switch[n].on_click(upon_clicked)\n",
        "\n",
        "display(combined)"
      ],
      "execution_count": null,
      "outputs": []
    }
  ]
}